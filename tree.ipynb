{
 "cells": [
  {
   "cell_type": "markdown",
   "id": "bd314b9b",
   "metadata": {},
   "source": [
    "# Assignment-3: Trees"
   ]
  },
  {
   "cell_type": "markdown",
   "id": "465d3a72",
   "metadata": {},
   "source": [
    "# Implement Binary tree"
   ]
  },
  {
   "cell_type": "code",
   "execution_count": 1,
   "id": "0f819c90",
   "metadata": {},
   "outputs": [
    {
     "name": "stdout",
     "output_type": "stream",
     "text": [
      "Inorder traversal: [2, 3, 4, 5, 7]\n"
     ]
    }
   ],
   "source": [
    "class Node:\n",
    "    def __init__(self, key):\n",
    "        self.left = None\n",
    "        self.right = None\n",
    "        self.val = key\n",
    "\n",
    "class BinaryTree:\n",
    "    def __init__(self):\n",
    "        self.root = None\n",
    "\n",
    "    def insert(self, key):\n",
    "        if self.root is None:\n",
    "            self.root = Node(key)\n",
    "        else:\n",
    "            self._insert_recursive(key, self.root)\n",
    "\n",
    "    def _insert_recursive(self, key, current_node):\n",
    "        if key < current_node.val:\n",
    "            if current_node.left is None:\n",
    "                current_node.left = Node(key)\n",
    "            else:\n",
    "                self._insert_recursive(key, current_node.left)\n",
    "        else:\n",
    "            if current_node.right is None:\n",
    "                current_node.right = Node(key)\n",
    "            else:\n",
    "                self._insert_recursive(key, current_node.right)\n",
    "\n",
    "    def inorder_traversal(self):\n",
    "        nodes = []\n",
    "        self._inorder_traversal_recursive(self.root, nodes)\n",
    "        return nodes\n",
    "\n",
    "    def _inorder_traversal_recursive(self, root, nodes):\n",
    "        if root:\n",
    "            self._inorder_traversal_recursive(root.left, nodes)\n",
    "            nodes.append(root.val)\n",
    "            self._inorder_traversal_recursive(root.right, nodes)\n",
    "\n",
    "# Example usage:\n",
    "tree = BinaryTree()\n",
    "tree.insert(5)\n",
    "tree.insert(3)\n",
    "tree.insert(7)\n",
    "tree.insert(2)\n",
    "tree.insert(4)\n",
    "\n",
    "print(\"Inorder traversal:\", tree.inorder_traversal())\n"
   ]
  },
  {
   "cell_type": "markdown",
   "id": "15423282",
   "metadata": {},
   "source": [
    "Find height of a given tree"
   ]
  },
  {
   "cell_type": "code",
   "execution_count": 2,
   "id": "45a04ab7",
   "metadata": {},
   "outputs": [
    {
     "name": "stdout",
     "output_type": "stream",
     "text": [
      "Height of the tree is: 3\n"
     ]
    }
   ],
   "source": [
    "class Node:\n",
    "    def __init__(self, key):\n",
    "        self.left = None\n",
    "        self.right = None\n",
    "        self.val = key\n",
    "\n",
    "def tree_height(root):\n",
    "    if root is None:\n",
    "        return 0\n",
    "    else:\n",
    "        left_height = tree_height(root.left)\n",
    "        right_height = tree_height(root.right)\n",
    "\n",
    "        # Return the height of the taller subtree + 1 (for the current node)\n",
    "        return max(left_height, right_height) + 1\n",
    "\n",
    "# Example usage:\n",
    "# Creating a sample binary tree\n",
    "root = Node(1)\n",
    "root.left = Node(2)\n",
    "root.right = Node(3)\n",
    "root.left.left = Node(4)\n",
    "root.left.right = Node(5)\n",
    "\n",
    "print(\"Height of the tree is:\", tree_height(root))\n"
   ]
  },
  {
   "cell_type": "markdown",
   "id": "3f0aa9ab",
   "metadata": {},
   "source": [
    "Perform Pre-order, Post-order, In-order traversal"
   ]
  },
  {
   "cell_type": "code",
   "execution_count": 3,
   "id": "4fa6774b",
   "metadata": {},
   "outputs": [
    {
     "name": "stdout",
     "output_type": "stream",
     "text": [
      "Pre-order traversal:\n",
      "1 2 4 5 3 \n",
      "\n",
      "In-order traversal:\n",
      "4 2 5 1 3 \n",
      "\n",
      "Post-order traversal:\n",
      "4 5 2 3 1 "
     ]
    }
   ],
   "source": [
    "class Node:\n",
    "    def __init__(self, key):\n",
    "        self.left = None\n",
    "        self.right = None\n",
    "        self.val = key\n",
    "\n",
    "def preorder_traversal(node):\n",
    "    if node:\n",
    "        print(node.val, end=\" \")\n",
    "        preorder_traversal(node.left)\n",
    "        preorder_traversal(node.right)\n",
    "\n",
    "def inorder_traversal(node):\n",
    "    if node:\n",
    "        inorder_traversal(node.left)\n",
    "        print(node.val, end=\" \")\n",
    "        inorder_traversal(node.right)\n",
    "\n",
    "def postorder_traversal(node):\n",
    "    if node:\n",
    "        postorder_traversal(node.left)\n",
    "        postorder_traversal(node.right)\n",
    "        print(node.val, end=\" \")\n",
    "\n",
    "\n",
    "root = Node(1)\n",
    "root.left = Node(2)\n",
    "root.right = Node(3)\n",
    "root.left.left = Node(4)\n",
    "root.left.right = Node(5)\n",
    "\n",
    "print(\"Pre-order traversal:\")\n",
    "preorder_traversal(root)\n",
    "print(\"\\n\")\n",
    "\n",
    "print(\"In-order traversal:\")\n",
    "inorder_traversal(root)\n",
    "print(\"\\n\")\n",
    "\n",
    "print(\"Post-order traversal:\")\n",
    "postorder_traversal(root)\n"
   ]
  },
  {
   "cell_type": "markdown",
   "id": "fbe808ac",
   "metadata": {},
   "source": [
    "Function to print all the leaves in a given binary tree"
   ]
  },
  {
   "cell_type": "code",
   "execution_count": 4,
   "id": "da57e2f5",
   "metadata": {},
   "outputs": [
    {
     "name": "stdout",
     "output_type": "stream",
     "text": [
      "Leaf nodes in the binary tree:\n",
      "4 5 6 7 "
     ]
    }
   ],
   "source": [
    "class Node:\n",
    "    def __init__(self, key):\n",
    "        self.left = None\n",
    "        self.right = None\n",
    "        self.val = key\n",
    "\n",
    "def print_leaves(node):\n",
    "    if node:\n",
    "        if node.left is None and node.right is None:\n",
    "            print(node.val, end=\" \")\n",
    "        else:\n",
    "            print_leaves(node.left)\n",
    "            print_leaves(node.right)\n",
    "\n",
    "\n",
    "root = Node(1)\n",
    "root.left = Node(2)\n",
    "root.right = Node(3)\n",
    "root.left.left = Node(4)\n",
    "root.left.right = Node(5)\n",
    "root.right.left = Node(6)\n",
    "root.right.right = Node(7)\n",
    "\n",
    "print(\"Leaf nodes in the binary tree:\")\n",
    "print_leaves(root)\n"
   ]
  },
  {
   "cell_type": "markdown",
   "id": "7368685a",
   "metadata": {},
   "source": [
    "Implement BFS (Breath First Search) and DFS (Depth First Search)"
   ]
  },
  {
   "cell_type": "code",
   "execution_count": 8,
   "id": "295d308f",
   "metadata": {},
   "outputs": [
    {
     "name": "stdout",
     "output_type": "stream",
     "text": [
      "BFS traversal:\n",
      "1 2 3 4 5 6 7 \n",
      "\n",
      "DFS Inorder traversal:\n",
      "4 2 5 1 6 3 7 \n",
      "\n",
      "DFS Preorder traversal:\n",
      "1 2 4 5 3 6 7 \n",
      "\n",
      "DFS Postorder traversal:\n",
      "4 5 2 6 7 3 1 "
     ]
    }
   ],
   "source": [
    "class Node:\n",
    "    def __init__(self, key):\n",
    "        self.left = None\n",
    "        self.right = None\n",
    "        self.val = key\n",
    "\n",
    "def bfs(root):\n",
    "    if root is None:\n",
    "        return\n",
    "\n",
    "    queue = [root]\n",
    "    while queue:\n",
    "        current = queue.pop(0)\n",
    "        print(current.val, end=\" \")\n",
    "\n",
    "        if current.left:\n",
    "            queue.append(current.left)\n",
    "        if current.right:\n",
    "            queue.append(current.right)\n",
    "\n",
    "def dfs_inorder(root):\n",
    "    if root:\n",
    "        dfs_inorder(root.left)\n",
    "        print(root.val, end=\" \")\n",
    "        dfs_inorder(root.right)\n",
    "\n",
    "def dfs_preorder(root):\n",
    "    if root:\n",
    "        print(root.val, end=\" \")\n",
    "        dfs_preorder(root.left)\n",
    "        dfs_preorder(root.right)\n",
    "\n",
    "def dfs_postorder(root):\n",
    "    if root:\n",
    "        dfs_postorder(root.left)\n",
    "        dfs_postorder(root.right)\n",
    "        print(root.val, end=\" \")\n",
    "\n",
    "\n",
    "root = Node(1)\n",
    "root.left = Node(2)\n",
    "root.right = Node(3)\n",
    "root.left.left = Node(4)\n",
    "root.left.right = Node(5)\n",
    "root.right.left = Node(6)\n",
    "root.right.right = Node(7)\n",
    "\n",
    "print(\"BFS traversal:\")\n",
    "bfs(root)\n",
    "print(\"\\n\")\n",
    "\n",
    "print(\"DFS Inorder traversal:\")\n",
    "dfs_inorder(root)\n",
    "print(\"\\n\")\n",
    "\n",
    "print(\"DFS Preorder traversal:\")\n",
    "dfs_preorder(root)\n",
    "print(\"\\n\")\n",
    "\n",
    "print(\"DFS Postorder traversal:\")\n",
    "dfs_postorder(root)\n"
   ]
  },
  {
   "cell_type": "markdown",
   "id": "ac105fb1",
   "metadata": {},
   "source": [
    "Find sum of all left leaves in a given Binary Tree"
   ]
  },
  {
   "cell_type": "code",
   "execution_count": 9,
   "id": "7d657035",
   "metadata": {},
   "outputs": [
    {
     "name": "stdout",
     "output_type": "stream",
     "text": [
      "Sum of left leaves: 4\n"
     ]
    }
   ],
   "source": [
    "class Node:\n",
    "    def __init__(self, key):\n",
    "        self.left = None\n",
    "        self.right = None\n",
    "        self.val = key\n",
    "\n",
    "def sum_left_leaves(root):\n",
    "    if root is None:\n",
    "        return 0\n",
    "\n",
    "    total = 0\n",
    "\n",
    "\n",
    "    if root.left and root.left.left is None and root.left.right is None:\n",
    "        total += root.left.val\n",
    "\n",
    "    total += sum_left_leaves(root.left)\n",
    "    total += sum_left_leaves(root.right)\n",
    "\n",
    "    return total\n",
    "\n",
    "\n",
    "root = Node(1)\n",
    "root.left = Node(2)\n",
    "root.right = Node(3)\n",
    "root.left.left = Node(4)\n",
    "root.left.right = Node(5)\n",
    "root.right.right = Node(6)\n",
    "\n",
    "print(\"Sum of left leaves:\", sum_left_leaves(root))\n"
   ]
  },
  {
   "cell_type": "markdown",
   "id": "f4241689",
   "metadata": {},
   "source": [
    "Find sum of all nodes of the given perfect binary tree"
   ]
  },
  {
   "cell_type": "code",
   "execution_count": 10,
   "id": "971854bf",
   "metadata": {},
   "outputs": [
    {
     "name": "stdout",
     "output_type": "stream",
     "text": [
      "Sum of all nodes in a perfect binary tree: 28\n"
     ]
    }
   ],
   "source": [
    "def sum_perfect_binary_tree_nodes(height):\n",
    " \n",
    "    total_nodes = 2 ** height - 1\n",
    "\n",
    "    \n",
    "    return total_nodes * (total_nodes + 1) // 2\n",
    "\n",
    "\n",
    "tree_height = 3  \n",
    "sum_nodes = sum_perfect_binary_tree_nodes(tree_height)\n",
    "print(\"Sum of all nodes in a perfect binary tree:\", sum_nodes)\n"
   ]
  },
  {
   "cell_type": "markdown",
   "id": "d90dfff7",
   "metadata": {},
   "source": [
    "Count subtress that sum up to a given value x in a binary tree"
   ]
  },
  {
   "cell_type": "code",
   "execution_count": 11,
   "id": "81f69b99",
   "metadata": {},
   "outputs": [
    {
     "name": "stdout",
     "output_type": "stream",
     "text": [
      "Number of subtrees with sum 12: 0\n"
     ]
    }
   ],
   "source": [
    "class Node:\n",
    "    def __init__(self, key):\n",
    "        self.left = None\n",
    "        self.right = None\n",
    "        self.val = key\n",
    "\n",
    "def count_subtrees_with_sum(root, x):\n",
    "    if root is None:\n",
    "        return 0\n",
    "\n",
    "    count = [0]  \n",
    "\n",
    "    def subtree_sum(node, x):\n",
    "        if node is None:\n",
    "            return 0\n",
    "\n",
    "        \n",
    "        current_sum = node.val + subtree_sum(node.left, x) + subtree_sum(node.right, x)\n",
    "\n",
    "      \n",
    "        if current_sum == x:\n",
    "            count[0] += 1\n",
    "\n",
    "        return current_sum\n",
    "\n",
    "    subtree_sum(root, x)\n",
    "    return count[0]\n",
    "\n",
    "root = Node(5)\n",
    "root.left = Node(3)\n",
    "root.right = Node(7)\n",
    "root.left.left = Node(2)\n",
    "root.left.right = Node(4)\n",
    "root.right.left = Node(6)\n",
    "root.right.right = Node(8)\n",
    "\n",
    "given_value = 12\n",
    "\n",
    "result = count_subtrees_with_sum(root, given_value)\n",
    "print(f\"Number of subtrees with sum {given_value}: {result}\")\n"
   ]
  },
  {
   "cell_type": "markdown",
   "id": "d43beee2",
   "metadata": {},
   "source": [
    "# Find maximum level sum in Binary Tree"
   ]
  },
  {
   "cell_type": "code",
   "execution_count": 12,
   "id": "f425ede2",
   "metadata": {},
   "outputs": [
    {
     "name": "stdout",
     "output_type": "stream",
     "text": [
      "Maximum level sum is at level 2 with sum 17\n"
     ]
    }
   ],
   "source": [
    "class Node:\n",
    "    def __init__(self, key):\n",
    "        self.left = None\n",
    "        self.right = None\n",
    "        self.val = key\n",
    "\n",
    "def max_level_sum(root):\n",
    "    if root is None:\n",
    "        return 0\n",
    "\n",
    "    max_sum = float(\"-inf\")  \n",
    "    result_level = 0\n",
    "    level = 0\n",
    "\n",
    "    queue = [root]\n",
    "    while queue:\n",
    "        level_sum = 0\n",
    "        level_size = len(queue)\n",
    "\n",
    "        for _ in range(level_size):\n",
    "            current = queue.pop(0)\n",
    "            level_sum += current.val\n",
    "\n",
    "            if current.left:\n",
    "                queue.append(current.left)\n",
    "            if current.right:\n",
    "                queue.append(current.right)\n",
    "\n",
    "        if level_sum > max_sum:\n",
    "            max_sum = level_sum\n",
    "            result_level = level\n",
    "\n",
    "        level += 1\n",
    "\n",
    "    return result_level, max_sum\n",
    "\n",
    "\n",
    "root = Node(1)\n",
    "root.left = Node(2)\n",
    "root.right = Node(3)\n",
    "root.left.left = Node(4)\n",
    "root.left.right = Node(5)\n",
    "root.right.right = Node(8)\n",
    "root.right.right.left = Node(6)\n",
    "root.right.right.right = Node(7)\n",
    "\n",
    "level, max_sum = max_level_sum(root)\n",
    "print(f\"Maximum level sum is at level {level} with sum {max_sum}\")\n"
   ]
  },
  {
   "cell_type": "markdown",
   "id": "9236be79",
   "metadata": {},
   "source": [
    "Print the nodes at odd levels of a tree"
   ]
  },
  {
   "cell_type": "code",
   "execution_count": 13,
   "id": "73e21a3e",
   "metadata": {},
   "outputs": [
    {
     "name": "stdout",
     "output_type": "stream",
     "text": [
      "Nodes at odd levels:\n",
      "1 4 5 6 7 "
     ]
    }
   ],
   "source": [
    "class Node:\n",
    "    def __init__(self, key):\n",
    "        self.left = None\n",
    "        self.right = None\n",
    "        self.val = key\n",
    "\n",
    "def print_nodes_odd_levels(root):\n",
    "    if root is None:\n",
    "        return\n",
    "\n",
    "    level = 1\n",
    "\n",
    "    queue = [root]\n",
    "    while queue:\n",
    "        level_size = len(queue)\n",
    "\n",
    "        for i in range(level_size):\n",
    "            current = queue.pop(0)\n",
    "\n",
    "            if level % 2 != 0:\n",
    "                print(current.val, end=\" \")\n",
    "\n",
    "            if current.left:\n",
    "                queue.append(current.left)\n",
    "            if current.right:\n",
    "                queue.append(current.right)\n",
    "\n",
    "        level += 1\n",
    "\n",
    "\n",
    "root = Node(1)\n",
    "root.left = Node(2)\n",
    "root.right = Node(3)\n",
    "root.left.left = Node(4)\n",
    "root.left.right = Node(5)\n",
    "root.right.left = Node(6)\n",
    "root.right.right = Node(7)\n",
    "root.left.left.left = Node(8)\n",
    "root.left.left.right = Node(9)\n",
    "\n",
    "print(\"Nodes at odd levels:\")\n",
    "print_nodes_odd_levels(root)\n"
   ]
  },
  {
   "cell_type": "code",
   "execution_count": null,
   "id": "a8dce2e0",
   "metadata": {},
   "outputs": [],
   "source": []
  }
 ],
 "metadata": {
  "kernelspec": {
   "display_name": "Python 3 (ipykernel)",
   "language": "python",
   "name": "python3"
  },
  "language_info": {
   "codemirror_mode": {
    "name": "ipython",
    "version": 3
   },
   "file_extension": ".py",
   "mimetype": "text/x-python",
   "name": "python",
   "nbconvert_exporter": "python",
   "pygments_lexer": "ipython3",
   "version": "3.10.9"
  }
 },
 "nbformat": 4,
 "nbformat_minor": 5
}
